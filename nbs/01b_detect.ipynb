{
 "cells": [
  {
   "cell_type": "code",
   "execution_count": null,
   "metadata": {},
   "outputs": [],
   "source": [
    "#| default_exp detect"
   ]
  },
  {
   "cell_type": "code",
   "execution_count": null,
   "metadata": {},
   "outputs": [],
   "source": [
    "%load_ext autoreload\n",
    "%autoreload 2\n",
    "from ipynb_path import *"
   ]
  },
  {
   "cell_type": "code",
   "execution_count": null,
   "metadata": {},
   "outputs": [],
   "source": [
    "#| export\n",
    "from relax.import_essentials import *\n",
    "from relax.explain import prepare_cf_module, Explanation\n",
    "import relax\n",
    "from scipy.stats import ttest_rel\n",
    "import einops"
   ]
  },
  {
   "cell_type": "code",
   "execution_count": null,
   "metadata": {},
   "outputs": [],
   "source": [
    "#| export\n",
    "class DetectionConfig(BaseParser):\n",
    "    frac: float = 1.0\n",
    "    tau: float = 0.0\n",
    "\n",
    "    # validate frac to be within [0, 1]\n",
    "    def __post_init__(self):\n",
    "        assert 0 <= self.frac <= 1, f\"frac must be a floating value within [0, 1], but got {self.frac}\"\n",
    "        assert 0 <= self.tau <= 1,  f\"tau must be a floating value within [0, 1], but got {self.tau}\""
   ]
  },
  {
   "cell_type": "code",
   "execution_count": null,
   "metadata": {},
   "outputs": [],
   "source": [
    "#| export\n",
    "def detect_watermark(\n",
    "    cfs: Array,\n",
    "    w_cfs: Array,\n",
    "    extracted_model: relax.MLModule,\n",
    "    config: DetectionConfig | dict,\n",
    "):\n",
    "    y_cfs, y_w_cfs = jax.tree_map(lambda x: extracted_model.pred_fn(x), (cfs, w_cfs))\n",
    "    # reshape and slice\n",
    "    y_cfs, y_w_cfs = jax.tree_map(lambda x: x[:int(config.frac*len(x))].reshape(-1, 2), \n",
    "                                  (y_cfs, y_w_cfs))\n",
    "    # t-test\n",
    "    ttest = ttest_rel(\n",
    "        y_w_cfs[jnp.arange(y_w_cfs.shape[0]), y_w_cfs.argmax(axis=1)] - config.tau,\n",
    "        y_cfs[jnp.arange(y_w_cfs.shape[0]), y_w_cfs.argmax(axis=1)],\n",
    "        alternative=\"greater\",\n",
    "    )\n",
    "\n",
    "    y_diff = np.mean(\n",
    "        y_w_cfs[jnp.arange(y_w_cfs.shape[0]), y_w_cfs.argmax(axis=1)]\n",
    "        - y_cfs[jnp.arange(y_w_cfs.shape[0]), y_w_cfs.argmax(axis=1)]\n",
    "    )\n",
    "    return ttest, y_diff"
   ]
  },
  {
   "cell_type": "code",
   "execution_count": null,
   "metadata": {},
   "outputs": [],
   "source": [
    "model = relax.load_ml_module('dummy')\n",
    "data = relax.load_data('dummy')\n",
    "cfs = einops.rearrange(data['test'][0], 'b k -> b 1 k')\n",
    "w_cfs = cfs + jrand.uniform(jrand.PRNGKey(0), shape=cfs.shape, minval=-0.03, maxval=0.03)\n",
    "res, diff = ttest(cfs, w_cfs, model)"
   ]
  }
 ],
 "metadata": {
  "kernelspec": {
   "display_name": "python3",
   "language": "python",
   "name": "python3"
  }
 },
 "nbformat": 4,
 "nbformat_minor": 2
}
