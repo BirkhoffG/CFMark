{
 "cells": [
  {
   "cell_type": "code",
   "execution_count": null,
   "metadata": {},
   "outputs": [],
   "source": [
    "#|default_exp data_module"
   ]
  },
  {
   "cell_type": "code",
   "execution_count": null,
   "metadata": {},
   "outputs": [],
   "source": [
    "%load_ext autoreload\n",
    "%autoreload 2"
   ]
  },
  {
   "cell_type": "code",
   "execution_count": null,
   "metadata": {},
   "outputs": [],
   "source": [
    "#| export\n",
    "from sklearn.datasets import make_classification\n",
    "from sklearn.model_selection import train_test_split\n",
    "from sklearn.neural_network import MLPClassifier\n",
    "from sklearn.ensemble import RandomForestClassifier\n",
    "from sklearn.svm import SVC\n",
    "import numpy as np\n",
    "from sklearn.utils import shuffle\n",
    "from sklearn.base import BaseEstimator\n",
    "from relax.data_module import DataModule, load_data\n",
    "from relax.ml_model import MLModule, load_ml_module\n",
    "from relax.utils import get_config\n",
    "import relax"
   ]
  },
  {
   "cell_type": "code",
   "execution_count": null,
   "metadata": {},
   "outputs": [],
   "source": [
    "#| export\n",
    "def get_dummy(n_samples=10_000, n_features=10, *, rng=None, **sk_args) -> tuple[DataModule, MLModule]:\n",
    "    if rng is None:\n",
    "        rng = np.random.RandomState(0)\n",
    "    xs, ys = make_classification(n_samples, n_features=n_features, random_state=rng, **sk_args)\n",
    "    dm = DataModule.from_numpy(xs, ys)\n",
    "    ml_module = MLModule().train(dm, epochs=50, batch_size=32, verbose=0)\n",
    "    return dm, ml_module"
   ]
  },
  {
   "cell_type": "code",
   "execution_count": null,
   "metadata": {},
   "outputs": [],
   "source": [
    "#| export\n",
    "def get_datamodule_and_ml_module(data_name: str) -> tuple[DataModule, MLModule]:\n",
    "    if data_name == 'dummy':\n",
    "        return get_dummy()\n",
    "    return load_data(data_name), load_ml_module(data_name)"
   ]
  }
 ],
 "metadata": {
  "kernelspec": {
   "display_name": "python3",
   "language": "python",
   "name": "python3"
  }
 },
 "nbformat": 4,
 "nbformat_minor": 2
}
