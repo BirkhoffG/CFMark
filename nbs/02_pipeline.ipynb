{
 "cells": [
  {
   "cell_type": "code",
   "execution_count": null,
   "metadata": {},
   "outputs": [],
   "source": [
    "#|default_exp pipeline"
   ]
  },
  {
   "cell_type": "code",
   "execution_count": null,
   "metadata": {},
   "outputs": [],
   "source": [
    "%load_ext autoreload\n",
    "%autoreload 2\n",
    "from ipynb_path import *"
   ]
  },
  {
   "cell_type": "code",
   "execution_count": null,
   "metadata": {},
   "outputs": [
    {
     "name": "stderr",
     "output_type": "stream",
     "text": [
      "/home/birk/mambaforge/lib/python3.10/site-packages/beartype/_util/hint/pep/utilpeptest.py:311: BeartypeDecorHintPep585DeprecationWarning: PEP 484 type hint typing.Tuple[typing.Optional[jax.Array], ...] deprecated by PEP 585. This hint is scheduled for removal in the first Python version released after October 5th, 2025. To resolve this, import this hint from \"beartype.typing\" rather than \"typing\". For further commentary and alternatives, see also:\n",
      "    https://beartype.readthedocs.io/en/latest/api_roar/#pep-585-deprecations\n",
      "  warn(\n"
     ]
    }
   ],
   "source": [
    "#| export\n",
    "from __future__ import annotations\n",
    "import relax\n",
    "from relax.import_essentials import *\n",
    "from relax.explain import prepare_cf_module, Explanation\n",
    "from relax.methods import *\n",
    "from relax.ml_model import *\n",
    "from privacy.watermark import batched_watermark, keras2haiku, hard_kl_divergence, WatermarkConfig\n",
    "from privacy.attack.extract import (\n",
    "    QueryModelExtraction,\n",
    "    ModelExtractionCF,\n",
    "    DualCFAttack,\n",
    "    agreement,\n",
    "    get_gen_fn\n",
    ")\n",
    "from privacy.logger import *\n",
    "from privacy.detect import *\n",
    "from pprint import pprint\n",
    "import wandb\n",
    "import einops\n",
    "import jax.tree_util as jt"
   ]
  },
  {
   "cell_type": "code",
   "execution_count": null,
   "metadata": {},
   "outputs": [],
   "source": [
    "#| export\n",
    "def generate_exp(\n",
    "    cf_module: CFModule,  # CF module used to generate CFs\n",
    "    dm: relax.DataModule,  # Data module\n",
    "    pred_fn: Callable[[Array], Array],  # Model prediction function\n",
    "    use_cached: bool = True,  # Whether to use cached CFs\n",
    "    cached_dir: str = \"experiments\",  # Directory to cache CFs\n",
    "    rng_key: jrand.PRNGKey = jrand.PRNGKey(0),  # Random number generator\n",
    ") -> tuple[Explanation, CFModule]:\n",
    "    \"\"\"Generate CF explanations and save them to disk.\"\"\"\n",
    "    exp_dir = Path(cached_dir) / cf_module.name / dm.name\n",
    "\n",
    "    if use_cached and exp_dir.exists():\n",
    "        cf_module = prepare_cf_module(cf_module, dm, pred_fn=pred_fn)\n",
    "        exp = Explanation.load_from_path(exp_dir)\n",
    "        exp.pred_fn = pred_fn\n",
    "    else:\n",
    "        exp = relax.generate_cf_explanations(\n",
    "            cf_module, dm, pred_fn=pred_fn, rng_key=rng_key\n",
    "        )\n",
    "        exp.save(exp_dir)\n",
    "    return exp, cf_module\n"
   ]
  },
  {
   "cell_type": "code",
   "execution_count": null,
   "metadata": {},
   "outputs": [
    {
     "data": {
      "application/vnd.jupyter.widget-view+json": {
       "model_id": "e014f3a056874d3f98a38e8117626f70",
       "version_major": 2,
       "version_minor": 0
      },
      "text/plain": [
       "  0%|          | 0/1000 [00:00<?, ?it/s]"
      ]
     },
     "metadata": {},
     "output_type": "display_data"
    },
    {
     "name": "stderr",
     "output_type": "stream",
     "text": [
      "/home/birk/mambaforge/lib/python3.10/site-packages/relax/explain.py:141: UserWarning: `ml_module_path` is not provided. Setting `pred_fn=None`.\n",
      "  warnings.warn(\"`ml_module_path` is not provided. Setting `pred_fn=None`.\")\n"
     ]
    }
   ],
   "source": [
    "dm = relax.load_data('dummy')\n",
    "ml_module = relax.load_ml_module('dummy')\n",
    "cf_module = DiverseCF({'lambda_1': 10.})\n",
    "exp, cf_module = generate_exp(cf_module, dm, ml_module.pred_fn, use_cached=False)\n",
    "exp_1, _ = generate_exp(cf_module, dm, ml_module.pred_fn, use_cached=True)\n",
    "assert jnp.array_equal(exp.cfs, exp_1.cfs)\n",
    "assert jnp.array_equal(exp.ys, exp_1.ys)\n",
    "assert jnp.array_equal(exp.xs, exp_1.xs)"
   ]
  },
  {
   "cell_type": "code",
   "execution_count": null,
   "metadata": {},
   "outputs": [],
   "source": [
    "#| export\n",
    "@dataclass\n",
    "class PipelineOutput:\n",
    "    exp: Explanation\n",
    "    w_exp: Explanation\n",
    "    cf_module: CFModule\n",
    "    extracted_model: MLModule\n",
    "    detect_results: dict[str, float]"
   ]
  },
  {
   "cell_type": "code",
   "execution_count": null,
   "metadata": {},
   "outputs": [],
   "source": [
    "#| export\n",
    "def pipeline(\n",
    "    dm: relax.DataModule,\n",
    "    cf_module: CFModule,\n",
    "    attack_fn: Callable,  # Function to perform the attack\n",
    "    n_queries: int,  # Number of queries to the model\n",
    "    ml_module: MLModule = None,  # ML module\n",
    "    logger: Logger = None,  # Logger\n",
    "    watermark_kargs_or_config: dict | WatermarkConfig = None,  # Keyword arguments for watermarking\n",
    "    train_kwargs: dict = None,  # Keyword arguments for training the attack model\n",
    "    detect_config: dict | DetectionConfig = None,  # Keyword arguments for watermark detection\n",
    "    use_cached: bool = False,  # Whether to use cached CFs (TODO: Don't use this for now)\n",
    "    use_watermark_to_extract: bool = True,  # Whether to use watermarked explanations to extract the model\n",
    "    rng_key: jrand.PRNGKey = jrand.PRNGKey(0),  # Random number generator\n",
    "):\n",
    "    \"\"\"Performs model extraction attack pipeline, including CF generation, watermarking, extraction, and watermark detection.\"\"\" \n",
    "    \n",
    "    # train ml model and generate cf explanations\n",
    "    if ml_module is None:\n",
    "        print(\"Training ML model for DataModule...\")\n",
    "        ml_module = relax.MLModule().train(dm, epochs=50, batch_size=32, verbose=0)\n",
    "    # init logger\n",
    "    logger = Logger() if logger is None else logger\n",
    "    \n",
    "    print(\"Generating CF explanations...\")\n",
    "    exp, cf_module = generate_exp(cf_module, dm, ml_module.pred_fn, \n",
    "                                  use_cached=use_cached, rng_key=rng_key)\n",
    "    # 1. perform watermarking\n",
    "    print(\"Performing watermarking...\")\n",
    "    net, params = keras2haiku(ml_module.model, ml_module.config, dm.xs[:1].shape)\n",
    "    w_conf = WatermarkConfig(**watermark_kargs_or_config) if isinstance(watermark_kargs_or_config, dict) else watermark_kargs_or_config\n",
    "    w_cfs, loss = batched_watermark(exp, conf=w_conf, pred_model=net, \n",
    "                                    pred_params=params, return_loss=True)\n",
    "    train_indices, test_indices = map(jnp.array, (exp.train_indices, exp.test_indices))\n",
    "    w_exp = exp.copy()\n",
    "    w_exp._cfs = w_exp.cfs.at[test_indices].set(w_cfs)\n",
    "    chex.assert_equal_shape([exp.cfs, w_exp.cfs])\n",
    "    assert np.allclose(exp.cfs[train_indices], w_exp.cfs[train_indices])\n",
    "    assert (\n",
    "        np.abs(exp.cfs[test_indices] - w_exp.cfs[test_indices]).max() < w_conf.eps + 1e-3\n",
    "    ), f\"delta_w should not exceed eps={w_conf.eps}, \" \\\n",
    "       f\"but got {np.abs(exp.cfs[test_indices] - w_exp.cfs[test_indices]).max()}.\"\n",
    "    \n",
    "    assert np.allclose(w_exp.xs, exp.xs)\n",
    "    # plot loss\n",
    "    loss = jt.tree_map(lambda x: x.mean(0), loss)\n",
    "    # logger.log({'poison': l1, 'validity': l2}, print=False)\n",
    "    if len(loss) > 0: # skip if loss is empty\n",
    "        logger.log_losses({'Bilevel Loss': loss})\n",
    "    \n",
    "    # log validity between original and watermarked CFs\n",
    "    validity = (\n",
    "        ml_module.pred_fn(exp.cfs[test_indices]).round() == \n",
    "        ml_module.pred_fn(w_cfs).round()\n",
    "    ).sum() / (w_cfs.shape[0] * w_cfs.shape[1] * 2)\n",
    "    logger.log({'validity': validity})\n",
    "    \n",
    "    # log original and watermarked CFs\n",
    "    logger.log({\n",
    "        \"Original CFs\": relax.benchmark_cfs([exp]),\n",
    "        \"Watermarked CFs\": relax.benchmark_cfs([w_exp])\n",
    "    })\n",
    "\n",
    "    logger.log_exps(exp, w_exp)\n",
    "    \n",
    "    # 2. attack\n",
    "    print(\"Performing model extraction attack...\")\n",
    "    if train_kwargs is None:\n",
    "        train_kwargs = {\n",
    "            \"epochs\": 100,\n",
    "            \"validation_split\": 0.0,\n",
    "            \"batch_size\": 32,\n",
    "            \"verbose\": False,\n",
    "        }\n",
    "\n",
    "    if hasattr(attack_fn, 'set_cf_generate_fn'):\n",
    "        print(\"Setting CF generation function...\")\n",
    "        attack_fn.set_cf_generate_fn(get_gen_fn(cf_module))\n",
    "\n",
    "    attack_key, rng_key = jrand.split(rng_key)\n",
    "    extracted_model = attack_fn(\n",
    "        w_exp if use_watermark_to_extract else exp,\n",
    "        n_queries=n_queries,\n",
    "        train_kwargs=train_kwargs,\n",
    "        shuffle=True,\n",
    "        rng_key=attack_key\n",
    "    )\n",
    "\n",
    "    extracted_agreement = agreement(\n",
    "        w_exp, extracted_model, w_exp[\"test\"][\"xs\"]\n",
    "    ).item()\n",
    "    logger.log({\"Extracted model agreement\": extracted_agreement})\n",
    "\n",
    "    # 3. detect watermark\n",
    "    print(\"Detecting watermark...\")\n",
    "    w_cfs_ys = extracted_model.pred_fn(w_exp[\"test\"][\"cfs\"])\n",
    "    cfs_ys = extracted_model.pred_fn(exp[\"test\"][\"cfs\"])\n",
    "    \n",
    "    detect_config = DetectionConfig(**detect_config) if isinstance(detect_config, dict) else detect_config\n",
    "    ttest_res, y_diff = detect_watermark(exp[\"test\"][\"cfs\"], w_exp[\"test\"][\"cfs\"],\n",
    "                                         extracted_model=extracted_model, config=detect_config)\n",
    "    detect_result = {\n",
    "        \"p-value\": ttest_res[1],\n",
    "        \"poisson_loss\": hard_kl_divergence(w_cfs_ys, cfs_ys).mean(),\n",
    "        \"mean_difference\": y_diff\n",
    "    }\n",
    "    \n",
    "    logger.log(detect_result)\n",
    "\n",
    "    # pprint(f\"p-value: {ttest_res[1]: .4f}, mean: {ttest_res[0]: .4f}\")\n",
    "    # pprint(f\"Poisson loss: {hard_kl_divergence(w_cfs_ys, cfs_ys).mean(): .4f}\")\n",
    "    # pprint(f\"Mean difference: {y_diff: .4f}\")\n",
    "\n",
    "    return PipelineOutput(\n",
    "        exp=exp, w_exp=w_exp, cf_module=cf_module, extracted_model=extracted_model,\n",
    "        detect_results=detect_result\n",
    "    )"
   ]
  },
  {
   "cell_type": "code",
   "execution_count": null,
   "metadata": {},
   "outputs": [],
   "source": [
    "#| export\n",
    "def attack_default_exps(\n",
    "    default_dir: Path,\n",
    "    dm: relax.DataModule,\n",
    "    cf_module: CFModule,\n",
    "    attack_fn: Callable,  # Function to perform the attack\n",
    "    n_queries: int,  # Number of queries to the model\n",
    "    ml_module: MLModule = None,  # ML module\n",
    "    logger: Logger = None,  # Logger\n",
    "    train_kwargs: dict = None,  # Keyword arguments for training the attack model\n",
    "    detect_config: dict | DetectionConfig = None,  # Keyword arguments for watermark detection\n",
    "    use_watermark_to_extract: bool = True,  # Whether to use watermarked explanations to extract the model\n",
    "    rng_key: jrand.PRNGKey = jrand.PRNGKey(0),  # Random number generator\n",
    ") -> PipelineOutput:\n",
    "    \"\"\"Use generated exp and w_exp to perform attacks.\"\"\"\n",
    "\n",
    "    # prepare cf module: it will regenerate cfs\n",
    "    exp, cf_module = generate_exp(cf_module, dm, ml_module.pred_fn, \n",
    "                                  use_cached=False, rng_key=jrand.PRNGKey(0))\n",
    "    \n",
    "    data = pd.read_csv(Path(default_dir) / \"data.csv\", index_col=0)\n",
    "    ys = data[data['type'] == 'xs']['output'].values\n",
    "    data = data.drop(columns='output')\n",
    "    xs = data[data['type'] == 'xs'].drop(columns='type').values\n",
    "    B, K = xs.shape\n",
    "    cfs = data[data['type'] == 'cfs'].drop(columns='type').values.reshape(B, -1, K)\n",
    "    w_cfs = data[data['type'] == 'w_cfs'].drop(columns='type').values.reshape(B, -1, K)\n",
    "    # exp = Explanation(cfs, pred_fn=None, xs=xs, ys=ys[:B])\n",
    "    print(\"testset cfs shapes: \", cfs.shape, w_cfs.shape)\n",
    "    test_indices = jnp.array(exp.test_indices)\n",
    "    exp._cfs = exp.cfs.at[test_indices].set(cfs)\n",
    "    w_exp = exp.copy()\n",
    "    w_exp._cfs = w_exp.cfs.at[test_indices].set(w_cfs)\n",
    "    # 2. attack\n",
    "    print(\"Performing model extraction attack...\")\n",
    "    if train_kwargs is None:\n",
    "        train_kwargs = {\n",
    "            \"epochs\": 100,\n",
    "            \"validation_split\": 0.0,\n",
    "            \"batch_size\": 32,\n",
    "            \"verbose\": False,\n",
    "        }\n",
    "\n",
    "    if hasattr(attack_fn, 'set_cf_generate_fn'):\n",
    "        print(\"Setting CF generation function...\")\n",
    "        attack_fn.set_cf_generate_fn(get_gen_fn(cf_module))\n",
    "\n",
    "    attack_key, rng_key = jrand.split(rng_key)\n",
    "    extracted_model = attack_fn(\n",
    "        w_exp if use_watermark_to_extract else exp,\n",
    "        n_queries=n_queries,\n",
    "        train_kwargs=train_kwargs,\n",
    "        shuffle=True,\n",
    "        rng_key=attack_key\n",
    "    )\n",
    "\n",
    "    extracted_agreement = agreement(\n",
    "        w_exp, extracted_model, w_exp[\"test\"][\"xs\"]\n",
    "    ).item()\n",
    "    logger.log({\"Extracted model agreement\": extracted_agreement})\n",
    "\n",
    "    # 3. detect watermark\n",
    "    print(\"Detecting watermark...\")\n",
    "    w_cfs_ys = extracted_model.pred_fn(w_exp[\"test\"][\"cfs\"])\n",
    "    cfs_ys = extracted_model.pred_fn(exp[\"test\"][\"cfs\"])\n",
    "\n",
    "    detect_config = DetectionConfig(**detect_config) if isinstance(detect_config, dict) else detect_config\n",
    "    ttest_res, y_diff = detect_watermark(exp[\"test\"][\"cfs\"], w_exp[\"test\"][\"cfs\"],\n",
    "                                         extracted_model=extracted_model, config=detect_config)\n",
    "\n",
    "    detect_result = {\n",
    "        \"p-value\": ttest_res[1],\n",
    "        \"poisson_loss\": hard_kl_divergence(w_cfs_ys, cfs_ys).mean(),\n",
    "        \"mean_difference\": y_diff\n",
    "    }\n",
    "    \n",
    "    logger.log(detect_result)\n",
    "    \n",
    "    return PipelineOutput(\n",
    "        exp=exp, w_exp=w_exp, cf_module=cf_module, extracted_model=extracted_model,\n",
    "        detect_results=detect_result\n",
    "    )"
   ]
  },
  {
   "cell_type": "code",
   "execution_count": null,
   "metadata": {},
   "outputs": [
    {
     "data": {
      "application/vnd.jupyter.widget-view+json": {
       "model_id": "104bcb21aa664342bd12f19fa7a820b8",
       "version_major": 2,
       "version_minor": 0
      },
      "text/plain": [
       "  0%|          | 0/100 [00:00<?, ?it/s]"
      ]
     },
     "metadata": {},
     "output_type": "display_data"
    }
   ],
   "source": [
    "dm = relax.load_data('titanic')\n",
    "ml_module = relax.load_ml_module('titanic')\n",
    "# cf_module = DiverseCF({'lambda_1': 10.})\n",
    "cf_module = GrowingSphere()\n",
    "exp = relax.generate_cf_explanations(\n",
    "    cf_module, dm, pred_fn=ml_module.pred_fn, \n",
    ")"
   ]
  },
  {
   "cell_type": "code",
   "execution_count": null,
   "metadata": {},
   "outputs": [
    {
     "data": {
      "text/html": [
       "<div>\n",
       "<style scoped>\n",
       "    .dataframe tbody tr th:only-of-type {\n",
       "        vertical-align: middle;\n",
       "    }\n",
       "\n",
       "    .dataframe tbody tr th {\n",
       "        vertical-align: top;\n",
       "    }\n",
       "\n",
       "    .dataframe thead th {\n",
       "        text-align: right;\n",
       "    }\n",
       "</style>\n",
       "<table border=\"1\" class=\"dataframe\">\n",
       "  <thead>\n",
       "    <tr style=\"text-align: right;\">\n",
       "      <th></th>\n",
       "      <th></th>\n",
       "      <th>acc</th>\n",
       "      <th>validity</th>\n",
       "      <th>proximity</th>\n",
       "    </tr>\n",
       "  </thead>\n",
       "  <tbody>\n",
       "    <tr>\n",
       "      <th>titanic</th>\n",
       "      <th>GrowingSphere</th>\n",
       "      <td>0.776655</td>\n",
       "      <td>1.0</td>\n",
       "      <td>27.073589</td>\n",
       "    </tr>\n",
       "  </tbody>\n",
       "</table>\n",
       "</div>"
      ],
      "text/plain": [
       "                            acc  validity  proximity\n",
       "titanic GrowingSphere  0.776655       1.0  27.073589"
      ]
     },
     "execution_count": null,
     "metadata": {},
     "output_type": "execute_result"
    }
   ],
   "source": [
    "relax.benchmark_cfs([exp])"
   ]
  },
  {
   "cell_type": "code",
   "execution_count": null,
   "metadata": {},
   "outputs": [
    {
     "name": "stdout",
     "output_type": "stream",
     "text": [
      "Generating CF explanations...\n"
     ]
    },
    {
     "data": {
      "application/vnd.jupyter.widget-view+json": {
       "model_id": "a57ef2ea2871424e9eca0994136e6c5b",
       "version_major": 2,
       "version_minor": 0
      },
      "text/plain": [
       "  0%|          | 0/100 [00:00<?, ?it/s]"
      ]
     },
     "metadata": {},
     "output_type": "display_data"
    },
    {
     "name": "stdout",
     "output_type": "stream",
     "text": [
      "Performing watermarking...\n"
     ]
    },
    {
     "data": {
      "application/vnd.jupyter.widget-view+json": {
       "model_id": "8e9f0a7f42e1418a8fe70d7fa48a29c2",
       "version_major": 2,
       "version_minor": 0
      },
      "text/plain": [
       "  0%|          | 0/50 [00:00<?, ?it/s]"
      ]
     },
     "metadata": {},
     "output_type": "display_data"
    },
    {
     "name": "stdout",
     "output_type": "stream",
     "text": [
      "validity: 1.0\n",
      "Original CFs:                             acc  validity  proximity\n",
      "titanic GrowingSphere  0.776655       1.0  26.948215\n",
      "Watermarked CFs:                             acc  validity  proximity\n",
      "titanic GrowingSphere  0.776655       1.0  26.956524\n",
      "Performing model extraction attack...\n",
      "Extracting model using 128 queries.\n",
      "retrain_xs.shape: (256, 57); retrain_ys.shape: (256, 2)\n",
      "Extracted model agreement: 0.9910314679145813\n",
      "Detecting watermark...\n",
      "p-value: 1.3455441917600418e-58\n",
      "poisson_loss: 0.002358220750465989\n",
      "mean_difference: 0.0013095152098685503\n"
     ]
    },
    {
     "data": {
      "image/png": "[encoded data removed]",
      "text/plain": [
       "<Figure size 640x480 with 1 Axes>"
      ]
     },
     "metadata": {},
     "output_type": "display_data"
    }
   ],
   "source": [
    "# dm = relax.load_data('adult')\n",
    "# ml_module = relax.load_ml_module('adult')\n",
    "# cf_module = DiverseCF({'lambda_1': 10.})\n",
    "attack_fn = ModelExtractionCF(MLModule({\n",
    "    \"loss\": \"binary_crossentropy\", \"metrics\": [\"accuracy\"], 'lr': 0.01}))\n",
    "w_conf = WatermarkConfig(\n",
    "    batch_size=64, steps=50, eps=0.05, k=10, n_ensembels=4,\n",
    "    perturb_categorical=False\n",
    ")\n",
    "\n",
    "output = pipeline(\n",
    "    dm=dm, \n",
    "    cf_module=cf_module, \n",
    "    attack_fn=attack_fn, \n",
    "    ml_module=ml_module,\n",
    "    n_queries=128, \n",
    "    train_kwargs={'epochs': 100, 'validation_split': 0., 'batch_size': 32, 'verbose': False},\n",
    "    watermark_kargs_or_config=w_conf,\n",
    "    use_watermark_to_extract=True,\n",
    "    logger=Logger()\n",
    ")\n"
   ]
  },
  {
   "cell_type": "markdown",
   "metadata": {},
   "source": [
    "We have two problems:\n",
    "\n",
    "1. **Overfitting**. The poison loss in the \"training set\" (during optimization) is \n",
    "larger than in the \"test set\" (during the detection).\n",
    "\n",
    "2. **Undetectable**. The poison loss of extracted models using poisoned $D^\\text{cf}$ \n",
    "is even smaller than extracted models without $D^\\text{cf}$. \n"
   ]
  }
 ],
 "metadata": {
  "kernelspec": {
   "display_name": "python3",
   "language": "python",
   "name": "python3"
  }
 },
 "nbformat": 4,
 "nbformat_minor": 2
}
